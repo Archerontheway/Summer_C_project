{
 "cells": [
  {
   "cell_type": "markdown",
   "metadata": {},
   "source": [
    "1. https://github.com/CSSEGISandData/COVID-19\n",
    "data sources for cases \n",
    "\n",
    "2. https://www.florida-demographics.com/counties_by_population\n",
    "data sources for florida demographics\n",
    "using web crawling to acquire data \n",
    "\n",
    "3. '/Users/chenhaoyi/JupyterNotebook/SummerProject/Global_Mobility_Report.csv'\n",
    "google research report for mobility\n",
    "\n",
    "4. https://opendata.arcgis.com/datasets/a7887f1940b34bf5a02c6f7f27a5cb2c_0.geojson\n",
    "data sources for cases specific to Florida\n",
    "\n",
    "5."
   ]
  }
 ],
 "metadata": {
  "kernelspec": {
   "display_name": "Python 3.7.2 64-bit",
   "language": "python",
   "name": "python37264bit7f257b3624f447d19b65ec492b33c1e1"
  },
  "language_info": {
   "codemirror_mode": {
    "name": "ipython",
    "version": 3
   },
   "file_extension": ".py",
   "mimetype": "text/x-python",
   "name": "python",
   "nbconvert_exporter": "python",
   "pygments_lexer": "ipython3",
   "version": "3.7.2"
  }
 },
 "nbformat": 4,
 "nbformat_minor": 2
}
