{
 "cells": [
  {
   "cell_type": "markdown",
   "metadata": {},
   "source": [
    "# import package"
   ]
  },
  {
   "cell_type": "code",
   "execution_count": null,
   "metadata": {},
   "outputs": [],
   "source": [
    "# for dataset manipulation\n",
    "import math\n",
    "import pandas as pd\n",
    "import numpy as np\n",
    "import datetime\n",
    "import json\n",
    "from urllib.request import urlopen\n",
    "import requests\n",
    "from bs4 import BeautifulSoup\n",
    "\n",
    "#显示所有列\n",
    "pd.set_option('display.max_columns', None)\n",
    "#显示所有行\n",
    "pd.set_option('display.max_rows', None)\n",
    "#设置value的显示长度为100，默认为50\n",
    "pd.set_option('max_colwidth',100)\n",
    "\n",
    "\n",
    "# for model\n",
    "import joblib\n",
    "from sklearn.cluster import KMeans\n",
    "import statsmodels.api as sm\n",
    "from sklearn.model_selection import train_test_split\n",
    "from sklearn.ensemble import RandomForestRegressor\n",
    "from sklearn import tree\n",
    "from sklearn.model_selection import GridSearchCV\n",
    "from sklearn.linear_model import LinearRegression\n",
    "\n",
    "\n",
    "from sklearn import linear_model\n",
    "\n",
    "from sklearn.model_selection import KFold\n",
    "from sklearn.model_selection import cross_val_score,cross_val_predict, ShuffleSplit\n",
    "from sklearn.metrics import r2_score\n",
    "from sklearn import metrics\n",
    "\n",
    "from sklearn.preprocessing import StandardScaler\n",
    "from sklearn.preprocessing import normalize\n",
    "\n",
    "from sklearn.model_selection import StratifiedKFold # cross-validation\n",
    "\n",
    "# for model visualization\n",
    "from IPython.display import Image\n",
    "import pydotplus\n",
    "import matplotlib.pyplot as plt\n",
    "import seaborn as sns"
   ]
  },
  {
   "cell_type": "markdown",
   "metadata": {},
   "source": [
    "# import data"
   ]
  },
  {
   "cell_type": "code",
   "execution_count": null,
   "metadata": {},
   "outputs": [],
   "source": [
    "case_data_path = ('https://raw.githubusercontent.com/CSSEGISandData/COVID-19/master/csse_covid_19_data/csse_covid_19_daily_reports/07-25-2020.csv')\n",
    "df_case = pd.read_csv(case_data_path) \n",
    "\n",
    "state = 'Florida'\n",
    "case_df = df_case.query('Province_State == @state').dropna().reset_index(drop = True)\n",
    "case_df = case_df.rename(columns = {'Lat':'Latitude', 'Long_':'Longitude','Admin2': 'County','Case-Fatality_Ratio':'Lethality'})\n",
    "\n",
    "case_data = case_df[['County','Confirmed','Deaths','Lethality']]\n"
   ]
  },
  {
   "cell_type": "code",
   "execution_count": null,
   "metadata": {},
   "outputs": [],
   "source": [
    "transformed_data_path = ('/Users/chenhaoyi/JupyterNotebook/SummerProject/data/model_transformed_data.csv')\n",
    "df_transformed = pd.read_csv(transformed_data_path)\n",
    "\n",
    "retrieve_list = ['County','population_density', 'FPLi', 'logG','Logperin',\n",
    "                                           'population','pergdp','Clinician_Count_DO','Nurse_practitioner_Count',\n",
    "                                           'Bed Census', 'Total Staffed Bed Capacity','Percent Remaining Vent Capacity',\n",
    "                                           'Ventilator Capacity']\n",
    "\n",
    "df_transformed_remain_use = df_transformed.loc[:,retrieve_list]\n"
   ]
  },
  {
   "cell_type": "code",
   "execution_count": null,
   "metadata": {},
   "outputs": [],
   "source": [
    "floridahealth_data_path = ('/Users/chenhaoyi/JupyterNotebook/SummerProject/data/Florida_COVID19_Cases_by_County.csv')\n",
    "df_floridahealth = pd.read_csv(floridahealth_data_path)\n",
    "\n",
    "retrieve_list = ['County_1','C_Age_0_4', 'C_Age_5_14', 'C_Age_15_24', 'C_Age_25_34', 'C_Age_35_44', \n",
    "                 'C_Age_45_54' , 'C_Age_55_64', 'C_Age_65_74' , 'C_Age_75_84', 'C_Age_85plus', 'C_RaceWhite', 'C_RaceBlack',\n",
    "                 'C_HispanicYES', 'C_HispanicNO', 'T_total' , 'T_negative', 'T_positive', 'Deaths']\n",
    "\n",
    "fhd_df_68 = df_floridahealth.loc[:,retrieve_list].rename(columns = {'County_1':'County'}).sort_values(by = 'County').reset_index(drop = True)\n",
    "\n",
    "fhd_df_67 = fhd_df_68.drop([64], axis = 0).reset_index(drop = True)\n",
    "\n",
    "fhd_df_67.County.iloc[12] = 'Miami-Dade'\n",
    "fhd_df_67.County.iloc[13] = 'DeSoto'\n",
    "fhd_df_67 = fhd_df_67.sort_values(by = 'County')"
   ]
  },
  {
   "cell_type": "markdown",
   "metadata": {},
   "source": [
    "# merge data"
   ]
  },
  {
   "cell_type": "code",
   "execution_count": null,
   "metadata": {},
   "outputs": [],
   "source": [
    "combined_1_df = pd.merge(df_transformed_remain_use, fhd_df_67,how = 'inner', on = 'County')\n",
    "combined_2_df =  pd.merge(combined_1_df, case_data,how = 'inner', on = 'County')\n",
    "\n",
    "#combined_2_df.to_csv('/Users/chenhaoyi/JupyterNotebook/SummerProject/data/combined_all_df.csv', index = False)\n",
    "combined_refine = combined_2_df.drop(columns = ['Confirmed', 'Deaths_y', 'Lethality']).rename(columns = {'Deaths_x':'Deaths'})\n",
    "\n",
    "combined_refine['C_65_plus'] = combined_refine['C_Age_65_74'] + combined_refine['C_Age_75_84'] + combined_refine['C_Age_85plus']\n",
    "combined_refine['C_65_plus_rate'] = (combined_refine['C_65_plus'] / combined_refine['T_positive'])*100\n",
    "combined_refine['C_RBlack_rate'] = (combined_refine['C_RaceBlack'] / combined_refine['T_positive'])*100\n",
    "combined_refine['C_RWhite_rate'] = (combined_refine['C_RaceWhite'] / combined_refine['T_positive'])*100\n",
    "combined_refine['C_HispanicYes_rate'] = (combined_refine['C_HispanicYES'] / combined_refine['T_positive'])*100\n",
    "combined_refine['C_HispanicNo_rate'] = (combined_refine['C_HispanicNO'] / combined_refine['T_positive'])*100\n",
    "combined_refine['Lethality'] = (combined_refine['Deaths'] / combined_refine['T_positive'])*100\n",
    "\n",
    "combined_refine\n",
    "#combined_refine.to_csv('/Users/chenhaoyi/JupyterNotebook/SummerProject/data/new_model_data.csv', index = False)\n"
   ]
  },
  {
   "cell_type": "markdown",
   "metadata": {},
   "source": [
    "# dataset checking"
   ]
  },
  {
   "cell_type": "code",
   "execution_count": null,
   "metadata": {},
   "outputs": [],
   "source": [
    "case_data_path = ('/Users/chenhaoyi/JupyterNotebook/SummerProject/data/07-23-2020.csv')\n",
    "df_case = pd.read_csv(case_data_path)\n",
    "\n",
    "state = 'Florida'\n",
    "case_df = df_case.query('Province_State == @state').dropna().reset_index(drop = True)\n",
    "case_df = case_df.rename(columns = {'Lat':'Latitude', 'Long_':'Longitude','Admin2': 'County'})\n",
    "\n",
    "lethality_df = case_df['Deaths'] / case_df['Confirmed']\n",
    "\n",
    "\n",
    "transformed_data_path = ('/Users/chenhaoyi/JupyterNotebook/SummerProject/data/model_transformed_data.csv')\n",
    "df_transformed = pd.read_csv(transformed_data_path)\n",
    "\n",
    "df_get_transformed = pd.concat([df_transformed,lethality_df], axis = 1)  \n",
    "df_get_transformed.columns = list(df_transformed.columns) + ['Lethality'] \n",
    "\n",
    "df_get_transformed = df_get_transformed.drop(columns = ['lethality'])\n",
    "\n",
    "df_get_transformed"
   ]
  }
 ],
 "metadata": {
  "kernelspec": {
   "display_name": "Python 3",
   "language": "python",
   "name": "python3"
  },
  "language_info": {
   "codemirror_mode": {
    "name": "ipython",
    "version": 3
   },
   "file_extension": ".py",
   "mimetype": "text/x-python",
   "name": "python",
   "nbconvert_exporter": "python",
   "pygments_lexer": "ipython3",
   "version": "3.7.4"
  }
 },
 "nbformat": 4,
 "nbformat_minor": 2
}
